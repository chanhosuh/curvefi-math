{
 "cells": [
  {
   "cell_type": "code",
   "execution_count": 17,
   "id": "understanding-effectiveness",
   "metadata": {},
   "outputs": [],
   "source": [
    "class Pool:\n",
    "    def __init__(self, x_reserve, y_reserve):\n",
    "        self.reserves = [0] * 2\n",
    "        self.reserves[0] = x_reserve\n",
    "        self.reserves[1] = y_reserve\n",
    "    \n",
    "    def K(self):\n",
    "        return self.reserves[0] * self.reserves[1]\n",
    "    \n",
    "    def out_amount(self, in_amount, in_reserve, out_reserve):\n",
    "        in_with_fee = in_amount * 0.997\n",
    "        return in_with_fee * out_reserve / (in_with_fee + in_reserve)\n",
    "    \n",
    "    def swap(self, in_index, in_amount):\n",
    "        out_index = (in_index + 1) % 2\n",
    "        \n",
    "        in_reserve = self.reserves[in_index]\n",
    "        out_reserve = self.reserves[out_index]\n",
    "        out_amount = self.out_amount(in_amount, in_reserve, out_reserve)\n",
    "        \n",
    "        self.reserves[in_index] += in_amount\n",
    "        self.reserves[out_index] -= out_amount\n",
    "        \n",
    "        return out_amount"
   ]
  },
  {
   "cell_type": "code",
   "execution_count": 18,
   "id": "otherwise-satellite",
   "metadata": {},
   "outputs": [],
   "source": [
    "pool = Pool(10, 10)"
   ]
  },
  {
   "cell_type": "code",
   "execution_count": 19,
   "id": "narrow-rubber",
   "metadata": {},
   "outputs": [
    {
     "data": {
      "text/plain": [
       "0.9066108938801491"
      ]
     },
     "execution_count": 19,
     "metadata": {},
     "output_type": "execute_result"
    }
   ],
   "source": [
    "pool.swap(0, 1)"
   ]
  },
  {
   "cell_type": "code",
   "execution_count": 20,
   "id": "computational-fiction",
   "metadata": {},
   "outputs": [
    {
     "data": {
      "text/plain": [
       "0.9066108938801491"
      ]
     },
     "execution_count": 20,
     "metadata": {},
     "output_type": "execute_result"
    }
   ],
   "source": [
    "10 - 100/ (10 + 0.997)\n"
   ]
  },
  {
   "cell_type": "code",
   "execution_count": 21,
   "id": "tamil-reliance",
   "metadata": {},
   "outputs": [
    {
     "name": "stdout",
     "output_type": "stream",
     "text": [
      "K: 100.02728016731837, out: 0.9066108938801491\n"
     ]
    }
   ],
   "source": [
    "pool = Pool(10, 10)\n",
    "\n",
    "in_amount = 1\n",
    "out_amount = 0\n",
    "\n",
    "out_delta = pool.swap(0, in_amount)\n",
    "print(f\"K: {pool.K()}, out: {out_delta}\")\n",
    "out_amount += out_delta"
   ]
  },
  {
   "cell_type": "code",
   "execution_count": 22,
   "id": "ecological-restoration",
   "metadata": {},
   "outputs": [
    {
     "name": "stdout",
     "output_type": "stream",
     "text": [
      "K: 100.01428775539362, out: 0.47482973758155933\n",
      "K: 100.02792792738373, out: 0.43172226901992017\n",
      "total out: 0.9065520066014795\n"
     ]
    }
   ],
   "source": [
    "pool = Pool(10, 10)\n",
    "\n",
    "in_amount = 1\n",
    "out_amount = 0\n",
    "\n",
    "out_delta = pool.swap(0, in_amount / 2)\n",
    "print(f\"K: {pool.K()}, out: {out_delta}\")\n",
    "out_amount += out_delta\n",
    "\n",
    "out_delta = pool.swap(0, in_amount / 2)\n",
    "print(f\"K: {pool.K()}, out: {out_delta}\")\n",
    "out_amount += out_delta\n",
    "\n",
    "print(\"total out:\", out_amount)"
   ]
  },
  {
   "cell_type": "code",
   "execution_count": 24,
   "id": "commercial-library",
   "metadata": {},
   "outputs": [
    {
     "name": "stdout",
     "output_type": "stream",
     "text": [
      "K: 100.00967835596995, out: 0.32164403006742587\n",
      "K: 100.01905514238955, out: 0.30156955033355554\n",
      "K: 100.02814861044506, out: 0.2833183641040162\n",
      "total out: 0.9065319445049975\n"
     ]
    }
   ],
   "source": [
    "pool = Pool(10, 10)\n",
    "\n",
    "in_amount = 1\n",
    "out_amount = 0\n",
    "\n",
    "out_delta = pool.swap(0, in_amount / 3)\n",
    "print(f\"K: {pool.K()}, out: {out_delta}\")\n",
    "out_amount += out_delta\n",
    "\n",
    "out_delta = pool.swap(0, in_amount / 3)\n",
    "print(f\"K: {pool.K()}, out: {out_delta}\")\n",
    "out_amount += out_delta\n",
    "\n",
    "out_delta = pool.swap(0, in_amount / 3)\n",
    "print(f\"K: {pool.K()}, out: {out_delta}\")\n",
    "out_amount += out_delta\n",
    "\n",
    "print(\"total out:\", out_amount)"
   ]
  },
  {
   "cell_type": "code",
   "execution_count": 29,
   "id": "emotional-phenomenon",
   "metadata": {},
   "outputs": [
    {
     "name": "stdout",
     "output_type": "stream",
     "text": [
      "n: 1\n",
      "\n",
      "K: 100.02728016731837, out: 0.9066108938801491\n",
      "total out: 0.9066108938801491\n",
      "\n",
      "n: 2\n",
      "\n",
      "K: 100.01428775539362, out: 0.47482973758155933\n",
      "K: 100.02792792738373, out: 0.43172226901992017\n",
      "total out: 0.9065520066014795\n",
      "\n",
      "n: 3\n",
      "\n",
      "K: 100.00967835596995, out: 0.32164403006742587\n",
      "K: 100.01905514238955, out: 0.30156955033355554\n",
      "K: 100.02814861044506, out: 0.2833183641040162\n",
      "total out: 0.9065319445049975\n",
      "\n",
      "n: 4\n",
      "\n",
      "K: 100.0073176086055, out: 0.24318852598970658\n",
      "K: 100.01446149871256, out: 0.23162466460909736\n",
      "K: 100.02143973869433, out: 0.22086683370870044\n",
      "K: 100.02825984732027, out: 0.2108418077542882\n",
      "total out: 0.9065218320617926\n",
      "\n",
      "n: 5\n",
      "\n",
      "K: 100.00588269898229, out: 0.19550169617820656\n",
      "K: 100.01165260201701, out: 0.18799324593554106\n",
      "K: 100.01731395941094, out: 0.18090940133804922\n",
      "K: 100.02287078556567, out: 0.17421873195878587\n",
      "K: 100.02832687612253, out: 0.16789266312372766\n",
      "total out: 0.9065157385343104\n",
      "\n",
      "n: 6\n",
      "\n",
      "K: 100.00491827466924, out: 0.163450661507943\n",
      "K: 100.00975745648165, out: 0.15818571367125153\n",
      "K: 100.01452005267463, out: 0.15317123885179204\n",
      "K: 100.01920845307086, out: 0.14839159349361855\n",
      "K: 100.02382493729873, out: 0.14383233672474066\n",
      "K: 100.02837168146607, out: 0.13948012107191848\n",
      "total out: 0.9065116653212644\n",
      "\n",
      "n: 7\n",
      "\n",
      "K: 100.00422553065623, out: 0.14042846880854123\n",
      "K: 100.00839254701235, out: 0.13653336689859144\n",
      "K: 100.01250264986096, out: 0.13279818416921232\n",
      "K: 100.01655737515995, out: 0.12921428247338793\n",
      "K: 100.02055819748784, out: 0.1257735992180663\n",
      "K: 100.02450653327206, out: 0.12246860194661509\n",
      "K: 100.02840374380753, out: 0.1192922470485361\n",
      "total out: 0.9065087505629505\n",
      "\n",
      "n: 8\n",
      "\n",
      "K: 100.00370384088299, out: 0.12309097867822266\n",
      "K: 100.0073626468335, out: 0.12009315333802227\n",
      "K: 100.01097750144199, out: 0.117203578688143\n",
      "K: 100.01454944963662, out: 0.1144171036159354\n",
      "K: 100.01807949950131, out: 0.11172887984426084\n",
      "K: 100.0215686239882, out: 0.1091343408132599\n",
      "K: 100.02501776253173, out: 0.10662918226061922\n",
      "K: 100.02842782257115, out: 0.10420934434598059\n",
      "total out: 0.906506561584444\n",
      "\n",
      "n: 9\n",
      "\n",
      "K: 100.0032968119828, out: 0.10956405156213941\n",
      "K: 100.00655789539243, out: 0.10718571954077358\n",
      "K: 100.0097840174575, out: 0.10488403365926208\n",
      "K: 100.01297592094434, out: 0.1026557347218753\n",
      "K: 100.01613432518619, out: 0.10049773497199282\n",
      "K: 100.01925992705891, out: 0.09840710738218202\n",
      "K: 100.02235340190639, out: 0.09638107571684992\n",
      "K: 100.02541540441877, out: 0.09441700530442353\n",
      "K: 100.02844656946631, out: 0.0925123944617421\n",
      "total out: 0.9065048573212408\n",
      "\n"
     ]
    }
   ],
   "source": [
    "\n",
    "in_amount = 1\n",
    "\n",
    "for n in range(1, 10):\n",
    "    pool = Pool(10, 10)\n",
    "    out_amount = 0\n",
    "    print(\"n:\", n)\n",
    "    print(\"\")\n",
    "    for _ in range(n):\n",
    "        out_delta = pool.swap(0, in_amount / n)\n",
    "        print(f\"K: {pool.K()}, out: {out_delta}\")\n",
    "        out_amount += out_delta\n",
    "\n",
    "    print(\"total out:\", out_amount)\n",
    "    print(\"\")"
   ]
  },
  {
   "cell_type": "code",
   "execution_count": null,
   "id": "plastic-recovery",
   "metadata": {},
   "outputs": [],
   "source": []
  }
 ],
 "metadata": {
  "kernelspec": {
   "display_name": "Python 3",
   "language": "python",
   "name": "python3"
  },
  "language_info": {
   "codemirror_mode": {
    "name": "ipython",
    "version": 3
   },
   "file_extension": ".py",
   "mimetype": "text/x-python",
   "name": "python",
   "nbconvert_exporter": "python",
   "pygments_lexer": "ipython3",
   "version": "3.8.2"
  }
 },
 "nbformat": 4,
 "nbformat_minor": 5
}
