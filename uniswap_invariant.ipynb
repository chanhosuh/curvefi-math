{
 "cells": [
  {
   "cell_type": "code",
   "execution_count": 40,
   "id": "appointed-progress",
   "metadata": {},
   "outputs": [],
   "source": [
    "class Pool:\n",
    "    def __init__(self, x_reserve, y_reserve):\n",
    "        self.reserves = [0] * 2\n",
    "        self.reserves[0] = x_reserve\n",
    "        self.reserves[1] = y_reserve\n",
    "    \n",
    "    def K(self):\n",
    "        return self.reserves[0] * self.reserves[1]\n",
    "    \n",
    "    def out_amount(self, in_amount, in_reserve, out_reserve):\n",
    "        in_with_fee = in_amount * 0.997\n",
    "        return in_with_fee * out_reserve / (in_with_fee + in_reserve)\n",
    "    \n",
    "    def swap(self, in_index, in_amount):\n",
    "        out_index = (in_index + 1) % 2\n",
    "        \n",
    "        in_reserve = self.reserves[in_index]\n",
    "        out_reserve = self.reserves[out_index]\n",
    "        out_amount = self.out_amount(in_amount, in_reserve, out_reserve)\n",
    "        \n",
    "        self.reserves[in_index] += in_amount\n",
    "        self.reserves[out_index] -= out_amount\n",
    "        \n",
    "        return out_amount"
   ]
  },
  {
   "cell_type": "code",
   "execution_count": 41,
   "id": "spare-sending",
   "metadata": {},
   "outputs": [],
   "source": [
    "pool = Pool(10, 10)"
   ]
  },
  {
   "cell_type": "code",
   "execution_count": 42,
   "id": "interior-bowling",
   "metadata": {},
   "outputs": [
    {
     "data": {
      "text/plain": [
       "0.9066108938801491"
      ]
     },
     "execution_count": 42,
     "metadata": {},
     "output_type": "execute_result"
    }
   ],
   "source": [
    "pool.swap(0, 1)"
   ]
  },
  {
   "cell_type": "code",
   "execution_count": 43,
   "id": "conventional-cleaning",
   "metadata": {},
   "outputs": [
    {
     "data": {
      "text/plain": [
       "0.9066108938801491"
      ]
     },
     "execution_count": 43,
     "metadata": {},
     "output_type": "execute_result"
    }
   ],
   "source": [
    "10 - 100/ (10 + 0.997)\n"
   ]
  },
  {
   "cell_type": "code",
   "execution_count": 44,
   "id": "municipal-questionnaire",
   "metadata": {},
   "outputs": [
    {
     "name": "stdout",
     "output_type": "stream",
     "text": [
      "K: 100.02728016731837, out: 0.9066108938801491\n"
     ]
    }
   ],
   "source": [
    "pool = Pool(10, 10)\n",
    "\n",
    "in_amount = 1\n",
    "out_amount = 0\n",
    "\n",
    "out_delta = pool.swap(0, in_amount)\n",
    "print(f\"K: {pool.K()}, out: {out_delta}\")\n",
    "out_amount += out_delta"
   ]
  },
  {
   "cell_type": "code",
   "execution_count": 45,
   "id": "found-shooting",
   "metadata": {},
   "outputs": [
    {
     "name": "stdout",
     "output_type": "stream",
     "text": [
      "K: 100.01428775539362, out: 0.47482973758155933\n",
      "K: 100.02792792738373, out: 0.43172226901992017\n",
      "total out: 0.9065520066014795\n"
     ]
    }
   ],
   "source": [
    "pool = Pool(10, 10)\n",
    "\n",
    "in_amount = 1\n",
    "out_amount = 0\n",
    "\n",
    "out_delta = pool.swap(0, in_amount / 2)\n",
    "print(f\"K: {pool.K()}, out: {out_delta}\")\n",
    "out_amount += out_delta\n",
    "\n",
    "out_delta = pool.swap(0, in_amount / 2)\n",
    "print(f\"K: {pool.K()}, out: {out_delta}\")\n",
    "out_amount += out_delta\n",
    "\n",
    "print(\"total out:\", out_amount)"
   ]
  },
  {
   "cell_type": "code",
   "execution_count": 46,
   "id": "psychological-belgium",
   "metadata": {},
   "outputs": [
    {
     "name": "stdout",
     "output_type": "stream",
     "text": [
      "K: 100.00967835596995, out: 0.32164403006742587\n",
      "K: 100.01905514238955, out: 0.30156955033355554\n",
      "K: 100.02814861044506, out: 0.2833183641040162\n",
      "total out: 0.9065319445049975\n"
     ]
    }
   ],
   "source": [
    "pool = Pool(10, 10)\n",
    "\n",
    "in_amount = 1\n",
    "out_amount = 0\n",
    "\n",
    "out_delta = pool.swap(0, in_amount / 3)\n",
    "print(f\"K: {pool.K()}, out: {out_delta}\")\n",
    "out_amount += out_delta\n",
    "\n",
    "out_delta = pool.swap(0, in_amount / 3)\n",
    "print(f\"K: {pool.K()}, out: {out_delta}\")\n",
    "out_amount += out_delta\n",
    "\n",
    "out_delta = pool.swap(0, in_amount / 3)\n",
    "print(f\"K: {pool.K()}, out: {out_delta}\")\n",
    "out_amount += out_delta\n",
    "\n",
    "print(\"total out:\", out_amount)"
   ]
  },
  {
   "cell_type": "code",
   "execution_count": 47,
   "id": "according-porter",
   "metadata": {},
   "outputs": [
    {
     "name": "stdout",
     "output_type": "stream",
     "text": [
      "n: 1\n",
      "\n",
      "K: 100.20040080160321, out: 6.65998663994656\n",
      "total out: 6.65998663994656\n",
      "\n",
      "n: 2\n",
      "\n",
      "K: 100.150225338007, out: 4.99248873309965\n",
      "K: 100.25047581382081, out: 1.6658287397729894\n",
      "total out: 6.658317472872639\n",
      "\n",
      "n: 3\n",
      "\n",
      "K: 100.12014417300763, out: 3.992791349619543\n",
      "K: 100.2060350602021, out: 1.712664290657511\n",
      "K: 100.27288364930163, out: 0.9521149047462257\n",
      "total out: 6.65757054502328\n",
      "\n",
      "n: 4\n",
      "\n",
      "K: 100.1001001001001, out: 3.3266599933266603\n",
      "K: 100.1752315237429, out: 1.6645784304861946\n",
      "K: 100.23537274739134, out: 0.9993466662914916\n",
      "K: 100.2855155051439, out: 0.6665643930575232\n",
      "total out: 6.65714948316187\n",
      "\n",
      "n: 5\n",
      "\n",
      "K: 100.08578781812982, out: 2.85101515584787\n",
      "K: 100.15255618892243, out: 1.5849539447675502\n",
      "K: 100.20721466965135, out: 1.009157505309519\n",
      "K: 100.2534855091171, out: 0.6989701052628654\n",
      "K: 100.29360295029721, out: 0.5127831904689555\n",
      "total out: 6.65687990165676\n",
      "\n",
      "n: 6\n",
      "\n",
      "K: 100.07505629221917, out: 2.4943707780835624\n",
      "K: 100.13513737464397, out: 1.4975209794378004\n",
      "K: 100.1852299896388, out: 0.9988467429966985\n",
      "K: 100.22818492603567, out: 0.7137678597946968\n",
      "K: 100.26578459525889, out: 0.5355267173650345\n",
      "K: 100.29921766781483, out: 0.41665966672838084\n",
      "total out: 6.656692744406174\n",
      "\n",
      "n: 7\n",
      "\n",
      "K: 100.0667111407605, out: 2.2170335779408497\n",
      "K: 100.12132277136307, out: 1.4116095184269553\n",
      "K: 100.16755395010928, out: 0.9777193832416959\n",
      "K: 100.20763700491126, out: 0.717281126827975\n",
      "K: 100.24301689322651, out: 0.54870275678261\n",
      "K: 100.27468258246307, out: 0.4333232258470648\n",
      "K: 100.30334067980016, out: 0.3508857216061781\n",
      "total out: 6.656555310673329\n",
      "\n",
      "n: 8\n",
      "\n",
      "K: 100.06003602161297, out: 1.9951971182709627\n",
      "K: 100.11009106714656, out: 1.330796810585935\n",
      "K: 100.15301378734112, out: 0.9509767118664676\n",
      "K: 100.19058525681243, out: 0.7135000964360142\n",
      "K: 100.22399325456394, out: 0.5551295626377792\n",
      "K: 100.25406947540657, out: 0.4442369211865793\n",
      "K: 100.28141895330292, out: 0.36356572616888366\n",
      "K: 100.30649557719721, out: 0.3030472002741383\n",
      "total out: 6.65645014742676\n",
      "\n",
      "n: 9\n",
      "\n",
      "K: 100.05457522284881, out: 1.8137165726760052\n",
      "K: 100.10077558080917, out: 1.2562297332679733\n",
      "K: 100.1408319135746, out: 0.9216037792415438\n",
      "K: 100.17618821529764, out: 0.7050046563575421\n",
      "K: 100.20783279407472, out: 0.5567584418955002\n",
      "K: 100.23647178601358, out: 0.4508380257322808\n",
      "K: 100.26262725399289, out: 0.3725285939337799\n",
      "K: 100.28669606104754, out: 0.31299913869766255\n",
      "K: 100.30898694703575, out: 0.2666881599631859\n",
      "total out: 6.656367101765474\n",
      "\n"
     ]
    }
   ],
   "source": [
    "\n",
    "in_amount = 20\n",
    "\n",
    "for n in range(1, 10):\n",
    "    pool = Pool(10, 10)\n",
    "    out_amount = 0\n",
    "    print(\"n:\", n)\n",
    "    print(\"\")\n",
    "    for _ in range(n):\n",
    "        out_delta = pool.swap(0, in_amount / n)\n",
    "        print(f\"K: {pool.K()}, out: {out_delta}\")\n",
    "        out_amount += out_delta\n",
    "\n",
    "    print(\"total out:\", out_amount)\n",
    "    print(\"\")"
   ]
  },
  {
   "cell_type": "markdown",
   "id": "collected-regression",
   "metadata": {},
   "source": [
    "## Fee-first Uniswap-style pool\n",
    "\n",
    "The Uniswap V2 pool takes the fee out of the in-token amount, does the swap, and then increase the invariant by adding the fee.  A natural question to ask is what happens if you increase the invariant first by adding the fee and then doing the swap.\n",
    "\n",
    "The below experiment suggests this would be inefficient as it incentivizes large swaps to be split up in order to reduce the increase of the invariant and thereby get more tokens out."
   ]
  },
  {
   "cell_type": "code",
   "execution_count": 38,
   "id": "tough-relevance",
   "metadata": {},
   "outputs": [],
   "source": [
    "class FeeFirstPool:\n",
    "    def __init__(self, x_reserve, y_reserve):\n",
    "        self.reserves = [0] * 2\n",
    "        self.reserves[0] = x_reserve\n",
    "        self.reserves[1] = y_reserve\n",
    "    \n",
    "    def K(self):\n",
    "        return self.reserves[0] * self.reserves[1]\n",
    "    \n",
    "    def out_amount(self, in_amount, in_reserve, out_reserve):\n",
    "        in_reserve_with_fee = in_reserve + 0.003 * in_amount\n",
    "        in_with_fee = in_amount * 0.997\n",
    "        return in_with_fee * out_reserve / (in_with_fee + in_reserve_with_fee)\n",
    "    \n",
    "    def swap(self, in_index, in_amount):\n",
    "        out_index = (in_index + 1) % 2\n",
    "        \n",
    "        in_reserve = self.reserves[in_index]\n",
    "        out_reserve = self.reserves[out_index]\n",
    "        out_amount = self.out_amount(in_amount, in_reserve, out_reserve)\n",
    "        \n",
    "        self.reserves[in_index] += in_amount\n",
    "        self.reserves[out_index] -= out_amount\n",
    "        \n",
    "        return out_amount"
   ]
  },
  {
   "cell_type": "code",
   "execution_count": 39,
   "id": "accurate-shock",
   "metadata": {},
   "outputs": [
    {
     "name": "stdout",
     "output_type": "stream",
     "text": [
      "n: 1\n",
      "\n",
      "K: 100.60000000000001, out: 6.6466666666666665\n",
      "total out: 6.6466666666666665\n",
      "\n",
      "n: 2\n",
      "\n",
      "K: 100.3, out: 4.985\n",
      "K: 100.45044999999999, out: 1.6666516666666666\n",
      "total out: 6.651651666666667\n",
      "\n",
      "n: 3\n",
      "\n",
      "K: 100.19999999999999, out: 3.988000000000001\n",
      "K: 100.32024, out: 1.7125611428571421\n",
      "K: 100.40622877714286, out: 0.9525645645714285\n",
      "total out: 6.653125707428572\n",
      "\n",
      "n: 4\n",
      "\n",
      "K: 100.15, out: 3.3233333333333333\n",
      "K: 100.25014999999999, out: 1.6641591666666666\n",
      "K: 100.3253376125, out: 0.9994939955000001\n",
      "K: 100.38553281506749, out: 0.6668290773310834\n",
      "total out: 6.653815572831084\n",
      "\n",
      "n: 5\n",
      "\n",
      "K: 100.12, out: 2.8485714285714288\n",
      "K: 100.20581714285714, out: 1.5844387301587302\n",
      "K: 100.27262102095237, out: 1.009143431226551\n",
      "K: 100.32731517787289, out: 0.69910351858664\n",
      "K: 100.37362009257036, out: 0.5129555550376373\n",
      "total out: 6.654212663580988\n",
      "\n",
      "n: 6\n",
      "\n",
      "K: 100.10000000000001, out: 2.4925\n",
      "K: 100.17507500000002, out: 1.4969955\n",
      "K: 100.23518004500002, out: 0.9987454977499999\n",
      "K: 100.28529763502252, out: 0.7138176750347499\n",
      "K: 100.32827704829467, out: 0.5356309379042007\n",
      "K: 100.36590015218778, out: 0.41678038423812414\n",
      "total out: 6.654469994927075\n",
      "\n",
      "n: 7\n",
      "\n",
      "K: 100.08571428571429, out: 2.2155555555555555\n",
      "K: 100.15243809523811, out: 1.4111074747474748\n",
      "K: 100.2070666978355, out: 0.9775718398135199\n",
      "K: 100.2533161132345, out: 0.7172770445991732\n",
      "K: 100.2934174396798, out: 0.5487591318856969\n",
      "K: 100.32881511642321, out: 0.43340418595140884\n",
      "K: 100.3604979001442, out: 0.3509748374423647\n",
      "total out: 6.654650069995194\n",
      "\n",
      "n: 8\n",
      "\n",
      "K: 100.075, out: 1.994\n",
      "K: 100.135045, out: 1.3303303333333334\n",
      "K: 100.1851125225, out: 0.9508060939523809\n",
      "K: 100.22804899929537, out: 0.7134611227495179\n",
      "K: 100.2656345176701, out: 0.5551520269572082\n",
      "K: 100.29905639584264, out: 0.4442881671738537\n",
      "K: 100.32914611276139, out: 0.36362966991510953\n",
      "K: 100.35650860715579, out: 0.3031156323467367\n",
      "total out: 6.654783046428141\n",
      "\n",
      "n: 9\n",
      "\n",
      "K: 100.06666666666666, out: 1.8127272727272727\n",
      "K: 100.12124848484848, out: 1.2558016783216783\n",
      "K: 100.16745829184148, out: 0.9214235514405597\n",
      "K: 100.20752527515822, out: 0.704943218237407\n",
      "K: 100.24289263702003, out: 0.5567567333089752\n",
      "K: 100.27454828732645, out: 0.4508669050786872\n",
      "K: 100.30319815826569, out: 0.3725728868663274\n",
      "K: 100.32936420995915, out: 0.31305064246056297\n",
      "K: 100.35344325736953, out: 0.26674233631287814\n",
      "total out: 6.654885224754349\n",
      "\n"
     ]
    }
   ],
   "source": [
    "\n",
    "in_amount = 20\n",
    "\n",
    "for n in range(1, 10):\n",
    "    pool = FeeFirstPool(10, 10)\n",
    "    out_amount = 0\n",
    "    print(\"n:\", n)\n",
    "    print(\"\")\n",
    "    for _ in range(n):\n",
    "        out_delta = pool.swap(0, in_amount / n)\n",
    "        print(f\"K: {pool.K()}, out: {out_delta}\")\n",
    "        out_amount += out_delta\n",
    "\n",
    "    print(\"total out:\", out_amount)\n",
    "    print(\"\")"
   ]
  },
  {
   "cell_type": "code",
   "execution_count": null,
   "id": "developing-spyware",
   "metadata": {},
   "outputs": [],
   "source": []
  },
  {
   "cell_type": "code",
   "execution_count": null,
   "id": "practical-bernard",
   "metadata": {},
   "outputs": [],
   "source": []
  }
 ],
 "metadata": {
  "kernelspec": {
   "display_name": "Python 3",
   "language": "python",
   "name": "python3"
  },
  "language_info": {
   "codemirror_mode": {
    "name": "ipython",
    "version": 3
   },
   "file_extension": ".py",
   "mimetype": "text/x-python",
   "name": "python",
   "nbconvert_exporter": "python",
   "pygments_lexer": "ipython3",
   "version": "3.8.2"
  }
 },
 "nbformat": 4,
 "nbformat_minor": 5
}
