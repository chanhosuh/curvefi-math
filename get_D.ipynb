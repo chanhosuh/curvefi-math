{
 "cells": [
  {
   "cell_type": "markdown",
   "id": "suffering-elder",
   "metadata": {},
   "source": [
    "## The Stableswap equation\n",
    "\n",
    "The Stableswap equation given in the Curve whitepaper is\n",
    "\n",
    "$$ An^n\\sum_i x_i + D = An^n D + \\frac{D^{n+1}}{n^n\\prod\\limits_i x_i}$$\n",
    "\n",
    "$D$ is the stableswap invariant.\n",
    "\n",
    "$A$ is the amplification coefficient.\n",
    "\n",
    "The $x_i$'s are the pool balances for each token."
   ]
  },
  {
   "cell_type": "markdown",
   "id": "aging-ivory",
   "metadata": {},
   "source": [
    "## Solving for $D$ using Newton's method\n",
    "\n",
    "To solve for $D$ in the stableswap equation, we can use the auxiliary form of the equation\n",
    "\n",
    "$$ f(D) = 0 $$\n",
    "\n",
    "where\n",
    "\n",
    "$$ f(D) = An^n D + \\frac{D^{n+1}}{n^n\\prod x_i} - An^n S - D $$\n",
    "\n",
    "Note $f(P) < 0$ and $f(S) > 0$ (this is simple to see using that $P <= S$ with equality only when $x_1 = x_2$).  Since $P < S$ in the generic case, we expect that somewhere in-between, there is a $D$ such that $f(D) = 0$.  In fact, the situation is much better than that.  \n",
    "\n",
    "The derivative of $f$ is\n",
    "\n",
    "$$ f'(D) = An^n + (n+1) \\frac{D^n}{n^n\\prod x_i} - 1 $$\n",
    "\n",
    "Since $f'$ is always be negative (as long as $A > 1$), $f$ is strictly decreasing and Newton's method will rapidly find a solution.\n",
    "\n",
    "Newton's method gives the iteration:\n",
    "\n",
    "$$ x_{k+1} = x_k - \\frac{f(x_k)}{f'(x_k)} $$\n",
    "\n",
    "After some cleanup, this gives the iterative formula:\n",
    "\n",
    "$$ D = \\frac{(nD_p + An^nS)D}{(n+1)D_p + (An^n - 1)D} $$\n",
    "\n",
    "where $D_p = \\frac{D^{n+1}}{n^n\\prod x_i}$"
   ]
  },
  {
   "cell_type": "markdown",
   "id": "racial-cannon",
   "metadata": {},
   "source": [
    "## Convergence under integer arithmetic\n",
    "\n",
    "Due to the necessity of implementing the above iterative formula in integer arithmetic for the EVM, some trickiness arises.\n",
    "\n",
    "First, note that "
   ]
  },
  {
   "cell_type": "markdown",
   "id": "israeli-ozone",
   "metadata": {},
   "source": [
    "### Calculation in vyper (from 3Pool)"
   ]
  },
  {
   "cell_type": "markdown",
   "id": "integral-boulder",
   "metadata": {},
   "source": [
    "```python\n",
    "def get_D(xp: uint256[N_COINS], amp: uint256) -> uint256:\n",
    "    S: uint256 = 0\n",
    "    for _x in xp:\n",
    "        S += _x\n",
    "    if S == 0:\n",
    "        return 0\n",
    "\n",
    "    Dprev: uint256 = 0\n",
    "    D: uint256 = S\n",
    "    Ann: uint256 = amp * N_COINS\n",
    "    for _i in range(255):\n",
    "        D_P: uint256 = D\n",
    "        for _x in xp:\n",
    "            D_P = D_P * D / (_x * N_COINS)\n",
    "        Dprev = D\n",
    "        D = (Ann * S + D_P * N_COINS) * D / ((Ann - 1) * D + (N_COINS + 1) * D_P)\n",
    "        if D > Dprev:\n",
    "            if D - Dprev <= 1:\n",
    "                break\n",
    "        else:\n",
    "            if Dprev - D <= 1:\n",
    "                break\n",
    "    return D\n",
    "```"
   ]
  },
  {
   "cell_type": "code",
   "execution_count": 113,
   "id": "indirect-ozone",
   "metadata": {},
   "outputs": [],
   "source": [
    "from math import prod\n",
    "\n",
    "def f(D, xp):\n",
    "    \"\"\"Useful to check accuracy of solution.\"\"\"\n",
    "    S = sum(xp)\n",
    "    n = len(xp)\n",
    "    Ann = A * n**n\n",
    "    return Ann * D + D**(n+1) / (n**n * prod(xp)) - Ann * S - D\n",
    "    "
   ]
  },
  {
   "cell_type": "code",
   "execution_count": 114,
   "id": "numeric-divide",
   "metadata": {},
   "outputs": [],
   "source": [
    "# this causes the prod (\"real\") calc to bork\n",
    "A = 100\n",
    "x_1 = 98_500_000 * 10**18\n",
    "x_2 = 5 * 10**18"
   ]
  },
  {
   "cell_type": "code",
   "execution_count": 118,
   "id": "stupid-discussion",
   "metadata": {},
   "outputs": [],
   "source": [
    "A = 100\n",
    "x_1 = 98_500_000 * 10**18\n",
    "x_2 = 500_000 * 10**18"
   ]
  },
  {
   "cell_type": "code",
   "execution_count": 119,
   "id": "correct-difficulty",
   "metadata": {},
   "outputs": [
    {
     "name": "stdout",
     "output_type": "stream",
     "text": [
      "\n",
      "Integer version with 'bounce' stop condition:\n",
      "\n",
      "D: 99000000000000000000000000 diff: 1\n",
      "D: 90196822398755624687517360 diff: 8803177601244375312482640\n",
      "D: 89980006434373679281203737 diff: 216815964381945406313623\n",
      "D: 89979882906659187435891502 diff: 123527714491845312235\n",
      "D: 89979882906619154845147287 diff: 40032590744215\n",
      "D: 89979882906619154845147283 diff: 4\n",
      "D: 89979882906619154845147283 diff: 0\n",
      "Solution: 89979882906619154845147283\n",
      "f(D): 1546188226560.0\n",
      "\n",
      "Floating point version:\n",
      "\n",
      "D: 99000000000000000000000000 diff: 1\n",
      "D: 90196822398755619163078656 diff: 8803177601244380836921344\n",
      "D: 89980006434373685871640576 diff: 216815964381933291438080\n",
      "D: 89979882906659186414714880 diff: 123527714499456925696\n",
      "D: 89979882906619140139646976 diff: 40046275067904\n",
      "D: 89979882906619157319516160 diff: -17179869184\n",
      "Solution: 89979882906619140139646976\n",
      "f(D): -7232724926464.0\n"
     ]
    }
   ],
   "source": [
    "# iterative calculation for D invariant\n",
    "\n",
    "xp = [x_1, x_2]\n",
    "\n",
    "n = len(xp)\n",
    "S = sum(xp)\n",
    "\n",
    "\n",
    "Ann = A * n**n\n",
    "\n",
    "## Commented-out since this can enter an infinite loop!\n",
    "# D = S\n",
    "# Dprev = 0\n",
    "# while abs(Dprev - D) > 1:\n",
    "#     print(\"D:\", D, \"diff:\", Dprev - D)\n",
    "#     D_P = D\n",
    "#     for x in xp:\n",
    "#         D_P = D_P * D // (x * n)\n",
    "#     Dprev = D\n",
    "#     D = (Ann * S + D_P * n) * D // ((Ann - 1) * D + (n + 1) * D_P)\n",
    "#     if Dprev < D:\n",
    "#         print(\"bounce\", Dprev, D)\n",
    "# print(\"Solution:\", D, \"diff:\", Dprev - D)\n",
    "# print(\"f(D):\", f(D, xp))\n",
    "\n",
    "print(\"\")\n",
    "print(\"Integer version with 'bounce' stop condition:\\n\")\n",
    "\n",
    "D = S\n",
    "Dprev = S + 1\n",
    "while Dprev > D:\n",
    "    print(\"D:\", D, \"diff:\", Dprev - D)\n",
    "    D_P = D\n",
    "    for x in xp:\n",
    "        D_P = D_P * D // (x * n)\n",
    "    Dprev = D\n",
    "    D = (Ann * S + D_P * n) * D // ((Ann - 1) * D + (n + 1) * D_P)\n",
    "print(\"D:\", D, \"diff:\", Dprev - D)\n",
    "print(\"Solution:\", Dprev)\n",
    "print(\"f(D):\", f(Dprev, xp))\n",
    "\n",
    "print(\"\")\n",
    "print(\"Floating point version:\\n\")\n",
    "\n",
    "D = S\n",
    "Dprev = S + 1\n",
    "while Dprev > D:\n",
    "    print(\"D:\", D, \"diff:\", Dprev - D)\n",
    "    D_P = D**(n+1) / (prod(xp) * n**n)\n",
    "    Dprev = D\n",
    "    D = (Ann * S + D_P * n) * D / ((Ann - 1) * D + (n + 1) * D_P)\n",
    "    D = int(D)\n",
    "print(\"D:\", D, \"diff:\", Dprev - D)\n",
    "print(\"Solution:\", Dprev)\n",
    "print(\"f(D):\", f(Dprev, xp))\n",
    "\n"
   ]
  },
  {
   "cell_type": "code",
   "execution_count": null,
   "id": "miniature-appraisal",
   "metadata": {},
   "outputs": [],
   "source": []
  }
 ],
 "metadata": {
  "kernelspec": {
   "display_name": "Python 3",
   "language": "python",
   "name": "python3"
  },
  "language_info": {
   "codemirror_mode": {
    "name": "ipython",
    "version": 3
   },
   "file_extension": ".py",
   "mimetype": "text/x-python",
   "name": "python",
   "nbconvert_exporter": "python",
   "pygments_lexer": "ipython3",
   "version": "3.8.2"
  }
 },
 "nbformat": 4,
 "nbformat_minor": 5
}
