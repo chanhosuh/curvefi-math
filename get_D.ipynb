{
 "cells": [
  {
   "cell_type": "markdown",
   "id": "suffering-elder",
   "metadata": {},
   "source": [
    "## The Stableswap equation\n",
    "\n",
    "The Stableswap equation given in the Curve whitepaper is\n",
    "\n",
    "$$ An^n\\sum_i x_i + D = An^n D + \\frac{D^{n+1}}{n^n\\prod\\limits_i x_i}$$\n",
    "\n",
    "$D$ is the stableswap invariant.\n",
    "\n",
    "$A$ is the amplification coefficient.\n",
    "\n",
    "The $x_i$'s are the pool balances for each token."
   ]
  },
  {
   "cell_type": "markdown",
   "id": "aging-ivory",
   "metadata": {},
   "source": [
    "## Solving for $D$ using Newton's method\n",
    "\n",
    "To solve for $D$ in the stableswap equation, we can use the auxiliary form of the equation\n",
    "\n",
    "$$ f(D) = 0 $$\n",
    "\n",
    "where\n",
    "\n",
    "$$ f(D) = An^n D + \\frac{D^{n+1}}{n^n\\prod x_i} - An^n S - D $$\n",
    "\n",
    "Note $f(P) < 0$ and $f(S) > 0$ (this is simple to see using that $P <= S$ with equality only when $x_1 = x_2$).  Since $P < S$ in the generic case, we expect that somewhere in-between, there is a $D$ such that $f(D) = 0$.  In fact, the situation is much better than that.  \n",
    "\n",
    "The derivative of $f$ is\n",
    "\n",
    "$$ f'(D) = An^n + (n+1) \\frac{D^n}{n^n\\prod x_i} - 1 $$\n",
    "\n",
    "Since $f'$ is always be negative (as long as $A > 1$), $f$ is strictly decreasing and Newton's method will rapidly find a solution.\n",
    "\n",
    "Newton's method gives the iteration:\n",
    "\n",
    "$$ x_{k+1} = x_k - \\frac{f(x_k)}{f'(x_k)} $$\n",
    "\n",
    "After some cleanup, this gives the iterative formula:\n",
    "\n",
    "$$ D = \\frac{(nD_p + An^nS)D}{(n+1)D_p + (An^n - 1)D} $$\n",
    "\n",
    "where $D_p = \\frac{D^{n+1}}{n^n\\prod x_i}$"
   ]
  },
  {
   "cell_type": "markdown",
   "id": "moral-synthesis",
   "metadata": {},
   "source": [
    "## Convergence under integer arithmetic\n",
    "\n",
    "Due to the necessity of implementing the above iterative formula in integer arithmetic for the EVM, some trickiness arises.\n",
    "\n",
    "First, note that $D_p$ is computed in the code iteratively to avoid overflow.  This necessitates doing multiple integer divisions which truncate.\n",
    "\n",
    "Second (and more seriously), the iterative formula for $D$ does a final integer division, which effectively floors $D$ and can push the iterative result to below the correct value.  The next iteration of the formula then gives a result above the correct value, leading to an oscillation around the correct value.  This can result in an infinite loop as we demonstrate."
   ]
  },
  {
   "cell_type": "markdown",
   "id": "illegal-sacrifice",
   "metadata": {},
   "source": [
    "### Calculation in vyper (from 3Pool)"
   ]
  },
  {
   "cell_type": "markdown",
   "id": "electrical-liquid",
   "metadata": {},
   "source": [
    "```python\n",
    "def get_D(xp: uint256[N_COINS], amp: uint256) -> uint256:\n",
    "    S: uint256 = 0\n",
    "    for _x in xp:\n",
    "        S += _x\n",
    "    if S == 0:\n",
    "        return 0\n",
    "\n",
    "    Dprev: uint256 = 0\n",
    "    D: uint256 = S\n",
    "    Ann: uint256 = amp * N_COINS\n",
    "    for _i in range(255):\n",
    "        D_P: uint256 = D\n",
    "        for _x in xp:\n",
    "            D_P = D_P * D / (_x * N_COINS)\n",
    "        Dprev = D\n",
    "        D = (Ann * S + D_P * N_COINS) * D / ((Ann - 1) * D + (N_COINS + 1) * D_P)\n",
    "        if D > Dprev:\n",
    "            if D - Dprev <= 1:\n",
    "                break\n",
    "        else:\n",
    "            if Dprev - D <= 1:\n",
    "                break\n",
    "    return D\n",
    "```"
   ]
  },
  {
   "cell_type": "code",
   "execution_count": 113,
   "id": "indirect-ozone",
   "metadata": {},
   "outputs": [],
   "source": [
    "from math import prod\n",
    "\n",
    "def f(D, xp, A):\n",
    "    \"\"\"Useful to check accuracy of solution.\"\"\"\n",
    "    S = sum(xp)\n",
    "    n = len(xp)\n",
    "    Ann = A * n**n\n",
    "    return Ann * D + D**(n+1) / (n**n * prod(xp)) - (Ann * S + D)\n",
    "    \n",
    "    \n",
    "def f_prime(D, xp, A):\n",
    "    return Ann + (n+1) * D**n / (n**n * prod(xp)) - 1\n",
    "\n",
    "def f_double_prime(D, xp, A):\n",
    "    return n * (n+1) * D**(n-1) / (n**n * prod(xp))\n"
   ]
  },
  {
   "cell_type": "code",
   "execution_count": 69,
   "id": "numeric-divide",
   "metadata": {},
   "outputs": [],
   "source": [
    "# this causes the prod (\"real\") calc to bork\n",
    "A = 100\n",
    "x_1 = 98_500_000 * 10**18\n",
    "x_2 = 5 * 10**18"
   ]
  },
  {
   "cell_type": "code",
   "execution_count": 102,
   "id": "palestinian-freeware",
   "metadata": {},
   "outputs": [],
   "source": [
    "# does NOT bork! but does bounce back and forth\n",
    "A = 100\n",
    "x_1 = 98_500_000 * 10**18\n",
    "x_2 = 500 * 10**18"
   ]
  },
  {
   "cell_type": "code",
   "execution_count": 90,
   "id": "norman-abuse",
   "metadata": {},
   "outputs": [],
   "source": [
    "# does NOT bork! but does bounce back and forth\n",
    "A = 100\n",
    "x_1 = 98_500_000 * 10**18\n",
    "x_2 = 50 * 10**18"
   ]
  },
  {
   "cell_type": "code",
   "execution_count": 99,
   "id": "separate-montgomery",
   "metadata": {},
   "outputs": [],
   "source": [
    "# falls into an interesting cycle\n",
    "A = 100\n",
    "x_1 = 98_500_000 * 10**18\n",
    "x_2 = 8 * 10**18"
   ]
  },
  {
   "cell_type": "code",
   "execution_count": 60,
   "id": "vital-regulation",
   "metadata": {},
   "outputs": [],
   "source": [
    "A = 100\n",
    "x_1 = 98_500_000 * 10**18\n",
    "x_2 = 500_000 * 10**18"
   ]
  },
  {
   "cell_type": "code",
   "execution_count": 54,
   "id": "polish-projection",
   "metadata": {},
   "outputs": [],
   "source": [
    "A = 100\n",
    "x_1 = 50_000_000 * 10**18\n",
    "x_2 = 1_000_000 * 10**18"
   ]
  },
  {
   "cell_type": "code",
   "execution_count": 50,
   "id": "extensive-philosophy",
   "metadata": {},
   "outputs": [],
   "source": [
    "A = 100\n",
    "x_1 = 50_000_000 * 10**18\n",
    "x_2 = 35_000_000 * 10**18"
   ]
  },
  {
   "cell_type": "code",
   "execution_count": 56,
   "id": "micro-separate",
   "metadata": {},
   "outputs": [],
   "source": [
    "A = 100\n",
    "x_1 = 90_000_000 * 10**18\n",
    "x_2 = 10_000_000 * 10**18"
   ]
  },
  {
   "cell_type": "code",
   "execution_count": 120,
   "id": "correct-difficulty",
   "metadata": {},
   "outputs": [
    {
     "name": "stdout",
     "output_type": "stream",
     "text": [
      "65756092287907639975314212 diff: 32744407712092360024685788\n",
      "44168124704128399818935301 diff: 21587967583779240156378911\n",
      "30363857632889687695239839 diff: 13804267071238712123695462\n",
      "22411924665442352735413816 diff: 7951932967447334959826023\n",
      "19096103336669527471340793 diff: 3315821328772825264073023\n",
      "18496762595037143446940757 diff: 599340741632384024400036\n",
      "18478334248576893518569115 diff: 18428346460249928371642\n",
      "18478317168499707301101656 diff: 17080077186217467459\n",
      "18478317168485044777940658 diff: 14662523160998\n",
      "18478317168485044777940649 diff: 9\n",
      "18478317168485044777940646 diff: 3\n",
      "18478317168485044777940648 diff: -2\n",
      "18478317168485044777940649 diff: -1\n",
      "Solution: 18478317168485044777940649 Iterations: 13\n",
      "f(D): 0.0\n",
      "\n",
      "Integer version with 'bounce' stop condition:\n",
      "\n",
      "D: 65756092287907639975314212 diff: 32744407712092360024685788\n",
      "f''(D) / f'(D): 2.0249781326079244e-26\n",
      "129670482049358726472663040\n",
      "47277775119422595197373566\n",
      "D: 44168124704128399818935301 diff: 21587967583779240156378911\n",
      "f''(D) / f'(D): 3.0232236636116355e-26\n",
      "67574733154189563909898240\n",
      "25689807535643355040994655\n",
      "D: 30363857632889687695239839 diff: 13804267071238712123695462\n",
      "f''(D) / f'(D): 4.468141949217765e-26\n",
      "29488227134112363666472960\n",
      "11885540464404642917299193\n",
      "D: 22411924665442352735413816 diff: 7951932967447334959826023\n",
      "f''(D) / f'(D): 6.404763395662422e-26\n",
      "9047757678336370416812032\n",
      "3933607496957307957473170\n",
      "D: 19096103336669527471340793 diff: 3315821328772825264073023\n",
      "f''(D) / f'(D): 8.481408184817496e-26\n",
      "1312351013531972163076096\n",
      "617786168184482693400147\n",
      "D: 18496762595037143446940757 diff: 599340741632384024400036\n",
      "f''(D) / f'(D): 9.771272413505631e-26\n",
      "37293013826125917323264\n",
      "18445426552098669000111\n",
      "D: 18478334248576893518569115 diff: 18428346460249928371642\n",
      "f''(D) / f'(D): 1.0043548450095637e-25\n",
      "34171542598368759808\n",
      "17080091848740628469\n",
      "D: 18478317168499707301101656 diff: 17080077186217467459\n",
      "f''(D) / f'(D): 1.0052137881717122e-25\n",
      "29325055357369\n",
      "14662523161010\n",
      "D: 18478317168485044777940658 diff: 14662523160998\n",
      "f''(D) / f'(D): 1.0052145848876329e-25\n",
      "21\n",
      "12\n",
      "D: 18478317168485044777940649 diff: 9\n",
      "f''(D) / f'(D): 1.0052145848883168e-25\n",
      "0\n",
      "3\n",
      "D: 18478317168485044777940646 diff: 3\n",
      "f''(D) / f'(D): 1.0052145848883168e-25\n",
      "0\n",
      "0\n",
      "D: 18478317168485044777940648 diff: -2\n",
      "f''(D) / f'(D): 1.0052145848883168e-25\n",
      "0\n",
      "2\n",
      "Solution: 18478317168485044777940646 Iterations: 12\n",
      "f(D): 0.0\n",
      "f'(D): 5598.718863641561\n",
      "f''(D): 5.627913858421841e-22\n",
      "f''(D) / f'(D): 1.0052145848883168e-25\n",
      "\n",
      "Floating point version:\n",
      "\n",
      "D: 6.575609228790763e+25 diff: 3.2744407712092365e+25\n",
      "D: 4.416812470412839e+25 diff: 2.1587967583779235e+25\n",
      "D: 3.0363857632889687e+25 diff: 1.3804267071238707e+25\n",
      "D: 2.2411924665442354e+25 diff: 7.951932967447333e+24\n",
      "D: 1.9096103336669525e+25 diff: 3.315821328772829e+24\n",
      "D: 1.8496762595037143e+25 diff: 5.9934074163238166e+23\n",
      "D: 1.8478334248576896e+25 diff: 1.8428346460247777e+22\n",
      "D: 1.8478317168499711e+25 diff: 1.708007718439302e+19\n",
      "D: 1.8478317168485046e+25 diff: 14665165832192.0\n",
      "D: 1.8478317168485042e+25 diff: 4294967296.0\n",
      "D: 1.8478317168485044e+25 diff: -2147483648.0\n",
      "Solution: 18478317168485041765875712 Iterations: 11\n",
      "f(D): -17592186044416.0\n"
     ]
    }
   ],
   "source": [
    "# iterative calculation for D invariant\n",
    "\n",
    "xp = [x_1, x_2]\n",
    "\n",
    "n = len(xp)\n",
    "S = sum(xp)\n",
    "\n",
    "\n",
    "Ann = A * n**n\n",
    "\n",
    "## Commented-out since this can enter an infinite loop!\n",
    "D = S\n",
    "Dprev = 0\n",
    "i = 0\n",
    "while abs(Dprev - D) > 1:\n",
    "    D_P = D\n",
    "    for x in xp:\n",
    "        D_P = D_P * D // (x * n)\n",
    "    Dprev = D\n",
    "    D = (Ann * S + D_P * n) * D // ((Ann - 1) * D + (n + 1) * D_P)\n",
    "    print(D, \"diff:\", Dprev - D)\n",
    "    i += 1\n",
    "    if i > 25:\n",
    "        print(\"something is very wrong\")\n",
    "        break\n",
    "print(\"Solution:\", D, \"Iterations:\", i)\n",
    "print(\"f(D):\", f(D, xp, A))\n",
    "\n",
    "print(\"\")\n",
    "print(\"Integer version with 'bounce' stop condition:\\n\")\n",
    "\n",
    "D = S\n",
    "Dprev = S + 1\n",
    "i = 0\n",
    "while Dprev > D:\n",
    "    D_P = D\n",
    "    for x in xp:\n",
    "        D_P = D_P * D // (x * n)\n",
    "    Dprev = D\n",
    "    D = (Ann * S + D_P * n) * D // ((Ann - 1) * D + (n + 1) * D_P)\n",
    "    print(\"D:\", D, \"diff:\", Dprev - D)\n",
    "    print(\"f''(D) / f'(D):\", f_double_prime(Dprev, xp, A) / f_prime(Dprev, xp, A))\n",
    "    print(int((18478317168485044777940646 - Dprev)**2 * f_double_prime(Dprev, xp, A) / f_prime(Dprev, xp, A)))\n",
    "    print(D - 18478317168485044777940646)\n",
    "    i += 1\n",
    "print(\"Solution:\", Dprev, \"Iterations:\", i)\n",
    "print(\"f(D):\", f(Dprev, xp, A))\n",
    "print(\"f'(D):\", f_prime(Dprev, xp, A))\n",
    "print(\"f''(D):\", f_double_prime(Dprev, xp, A))\n",
    "print(\"f''(D) / f'(D):\", f_double_prime(Dprev, xp, A) / f_prime(Dprev, xp, A))\n",
    "\n",
    "print(\"\")\n",
    "print(\"Floating point version:\\n\")\n",
    "\n",
    "D = S\n",
    "Dprev = S + 1\n",
    "i = 0\n",
    "while Dprev > D:\n",
    "    D_P = D**(n+1) / (prod(xp) * n**n)\n",
    "    Dprev = D\n",
    "    D = (Ann * S + D_P * n) * D / ((Ann - 1) * D + (n + 1) * D_P)\n",
    "    print(\"D:\", D, \"diff:\", Dprev - D)\n",
    "    i += 1\n",
    "print(\"Solution:\", int(Dprev), \"Iterations:\", i)\n",
    "print(\"f(D):\", f(int(Dprev), xp, A))\n",
    "\n"
   ]
  },
  {
   "cell_type": "code",
   "execution_count": 110,
   "id": "minus-trader",
   "metadata": {},
   "outputs": [
    {
     "data": {
      "text/plain": [
       "14"
      ]
     },
     "execution_count": 110,
     "metadata": {},
     "output_type": "execute_result"
    }
   ],
   "source": [
    "len('14662523160998')"
   ]
  },
  {
   "cell_type": "code",
   "execution_count": null,
   "id": "exciting-woman",
   "metadata": {},
   "outputs": [],
   "source": []
  }
 ],
 "metadata": {
  "kernelspec": {
   "display_name": "Python 3",
   "language": "python",
   "name": "python3"
  },
  "language_info": {
   "codemirror_mode": {
    "name": "ipython",
    "version": 3
   },
   "file_extension": ".py",
   "mimetype": "text/x-python",
   "name": "python",
   "nbconvert_exporter": "python",
   "pygments_lexer": "ipython3",
   "version": "3.8.2"
  }
 },
 "nbformat": 4,
 "nbformat_minor": 5
}
